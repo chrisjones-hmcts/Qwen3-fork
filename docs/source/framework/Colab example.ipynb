{
  "cells": [
    {
      "cell_type": "markdown",
      "metadata": {
        "id": "DuXzR_ll5pgf"
      },
      "source": [
        "# Running Qwen1.5 on Google Colab\n",
        "\n",
        "The Qwen1.5 models can be run on Google Colab with ease. Here, we provide a simple example of running Qwen1.5 on a free T4 GPU.\n",
        "First, make sure that you have installed  ``transformers>=4.37.0 ``.\n"
      ]
    },
    {
      "cell_type": "code",
      "execution_count": 1,
      "metadata": {
        "id": "rZJd-XqW6ITw"
      },
      "outputs": [],
      "source": [
        "!pip install transformers>=4.37.0"
      ]
    },
    {
      "attachments": {},
      "cell_type": "markdown",
      "metadata": {
        "id": "ihp0n3ZV6jzZ"
      },
      "source": [
        "Next, you can try to generate some texts with  ``transformers ``.\n",
        "For free T4 instances, due to limited RAM and GPU memory capacity, we test a small version of the Qwen1.5 models. It is suggested to select advanced GPU instances to play with larger models.  "
      ]
    },
    {
      "cell_type": "code",
      "execution_count": null,
      "metadata": {
        "id": "bUSUJmS_7KU4"
      },
      "outputs": [],
      "source": [
        "from transformers import AutoModelForCausalLM, AutoTokenizer\n",
        "\n",
        "device = \"cuda\"\n",
        "model_name = \"Qwen/Qwen1.5-0.5B-Chat\"\n",
        "\n",
        "model = AutoModelForCausalLM.from_pretrained(model_name).to(device)\n",
        "tokenizer = AutoTokenizer.from_pretrained(model_name)\n",
        "\n",
        "prompt = \"Give me a short introduction to the Qwen model.\"\n",
        "messages = [\n",
        "    {\"role\": \"system\", \"content\": \"You are a helpful assistant.\"},\n",
        "    {\"role\": \"user\", \"content\": prompt}\n",
        "]\n",
        "text = tokenizer.apply_chat_template(\n",
        "    messages,\n",
        "    tokenize=False,\n",
        "    add_generation_prompt=True\n",
        ")\n",
        "model_inputs = tokenizer([text], return_tensors=\"pt\").to(device)\n",
        "generated_ids = model.generate(\n",
        "    model_inputs.input_ids,\n",
        "    max_new_tokens=512\n",
        ")\n",
        "generated_ids = [\n",
        "    output_ids[len(input_ids):] for input_ids, output_ids in zip(model_inputs.input_ids, generated_ids)\n",
        "]\n",
        "\n",
        "response = tokenizer.batch_decode(generated_ids, skip_special_tokens=True)[0]\n",
        "print(response)"
      ]
    },
    {
      "cell_type": "markdown",
      "metadata": {
        "id": "rjYKvVK1ANb8"
      },
      "source": [
        "The response should be something like ``Qwen is a large language model developed by Alibaba Cloud. It was designed to be powerful, efficient, and user-friendly, allowing users to interact with it using natural language processing techniques. Qwen uses advanced machine learning algorithms and a combination of deep neural networks to generate text that is both human-like and grammatically correct. With its ability to understand multiple languages, it can be used in various fields such as customer service, education, and entertainment.``."
      ]
    }
  ],
  "metadata": {
    "accelerator": "GPU",
    "colab": {
      "gpuType": "T4",
      "provenance": []
    },
    "kernelspec": {
      "display_name": "Python 3",
      "name": "python3"
    },
    "language_info": {
      "name": "python"
    }
  },
  "nbformat": 4,
  "nbformat_minor": 0
}
